{
  "nbformat": 4,
  "nbformat_minor": 0,
  "metadata": {
    "colab": {
      "provenance": [],
      "authorship_tag": "ABX9TyOhee0K1J7mW7q4rKKsDbmh",
      "include_colab_link": true
    },
    "kernelspec": {
      "name": "python3",
      "display_name": "Python 3"
    },
    "language_info": {
      "name": "python"
    }
  },
  "cells": [
    {
      "cell_type": "markdown",
      "metadata": {
        "id": "view-in-github",
        "colab_type": "text"
      },
      "source": [
        "<a href=\"https://colab.research.google.com/github/Ruchiiika/dataScience/blob/main/seventh.ipynb\" target=\"_parent\"><img src=\"https://colab.research.google.com/assets/colab-badge.svg\" alt=\"Open In Colab\"/></a>"
      ]
    },
    {
      "cell_type": "code",
      "execution_count": 13,
      "metadata": {
        "colab": {
          "base_uri": "https://localhost:8080/"
        },
        "id": "ZY_ICNsLjvaJ",
        "outputId": "193aeee7-0a72-4a44-bef8-fb2dad28f027"
      },
      "outputs": [
        {
          "output_type": "stream",
          "name": "stdout",
          "text": [
            "Requirement already satisfied: nltk in /usr/local/lib/python3.11/dist-packages (3.9.1)\n",
            "Requirement already satisfied: scikit-learn in /usr/local/lib/python3.11/dist-packages (1.6.1)\n",
            "Requirement already satisfied: click in /usr/local/lib/python3.11/dist-packages (from nltk) (8.1.8)\n",
            "Requirement already satisfied: joblib in /usr/local/lib/python3.11/dist-packages (from nltk) (1.4.2)\n",
            "Requirement already satisfied: regex>=2021.8.3 in /usr/local/lib/python3.11/dist-packages (from nltk) (2024.11.6)\n",
            "Requirement already satisfied: tqdm in /usr/local/lib/python3.11/dist-packages (from nltk) (4.67.1)\n",
            "Requirement already satisfied: numpy>=1.19.5 in /usr/local/lib/python3.11/dist-packages (from scikit-learn) (2.0.2)\n",
            "Requirement already satisfied: scipy>=1.6.0 in /usr/local/lib/python3.11/dist-packages (from scikit-learn) (1.15.2)\n",
            "Requirement already satisfied: threadpoolctl>=3.1.0 in /usr/local/lib/python3.11/dist-packages (from scikit-learn) (3.6.0)\n"
          ]
        }
      ],
      "source": [
        "pip install nltk scikit-learn"
      ]
    },
    {
      "cell_type": "code",
      "source": [
        "import nltk"
      ],
      "metadata": {
        "id": "ar18o-0Hj0s5"
      },
      "execution_count": 14,
      "outputs": []
    },
    {
      "cell_type": "code",
      "source": [
        "nltk.download(\"punkt\")\n",
        "nltk.download(\"punkt_tab\")"
      ],
      "metadata": {
        "colab": {
          "base_uri": "https://localhost:8080/"
        },
        "id": "7nqUd_-_j67S",
        "outputId": "edda613e-7856-46df-b8f4-d027fea35e53"
      },
      "execution_count": 15,
      "outputs": [
        {
          "output_type": "stream",
          "name": "stderr",
          "text": [
            "[nltk_data] Downloading package punkt to /root/nltk_data...\n",
            "[nltk_data]   Package punkt is already up-to-date!\n",
            "[nltk_data] Downloading package punkt_tab to /root/nltk_data...\n",
            "[nltk_data]   Unzipping tokenizers/punkt_tab.zip.\n"
          ]
        },
        {
          "output_type": "execute_result",
          "data": {
            "text/plain": [
              "True"
            ]
          },
          "metadata": {},
          "execution_count": 15
        }
      ]
    },
    {
      "cell_type": "code",
      "source": [
        "nltk.download(\"averaged_perceptron_tagger\")\n",
        "nltk.download('averaged_perceptron_tagger_eng')"
      ],
      "metadata": {
        "colab": {
          "base_uri": "https://localhost:8080/"
        },
        "id": "Oo1owIfukDyu",
        "outputId": "4ffdf714-3101-4fd1-94f7-904eac14372d"
      },
      "execution_count": 22,
      "outputs": [
        {
          "output_type": "stream",
          "name": "stderr",
          "text": [
            "[nltk_data] Downloading package averaged_perceptron_tagger to\n",
            "[nltk_data]     /root/nltk_data...\n",
            "[nltk_data]   Package averaged_perceptron_tagger is already up-to-\n",
            "[nltk_data]       date!\n",
            "[nltk_data] Downloading package averaged_perceptron_tagger_eng to\n",
            "[nltk_data]     /root/nltk_data...\n",
            "[nltk_data]   Unzipping taggers/averaged_perceptron_tagger_eng.zip.\n"
          ]
        },
        {
          "output_type": "execute_result",
          "data": {
            "text/plain": [
              "True"
            ]
          },
          "metadata": {},
          "execution_count": 22
        }
      ]
    },
    {
      "cell_type": "code",
      "source": [
        "nltk.download('stopwords')"
      ],
      "metadata": {
        "colab": {
          "base_uri": "https://localhost:8080/"
        },
        "id": "1dmBmzhckOSZ",
        "outputId": "6857d6b9-589b-44af-dd47-f7287f07b043"
      },
      "execution_count": 17,
      "outputs": [
        {
          "output_type": "stream",
          "name": "stderr",
          "text": [
            "[nltk_data] Downloading package stopwords to /root/nltk_data...\n",
            "[nltk_data]   Package stopwords is already up-to-date!\n"
          ]
        },
        {
          "output_type": "execute_result",
          "data": {
            "text/plain": [
              "True"
            ]
          },
          "metadata": {},
          "execution_count": 17
        }
      ]
    },
    {
      "cell_type": "code",
      "source": [
        "nltk.download('wordnet')"
      ],
      "metadata": {
        "colab": {
          "base_uri": "https://localhost:8080/"
        },
        "id": "_sfvJpXCkgU_",
        "outputId": "41ccff67-7f89-43ca-de40-736f33cbf86c"
      },
      "execution_count": 18,
      "outputs": [
        {
          "output_type": "stream",
          "name": "stderr",
          "text": [
            "[nltk_data] Downloading package wordnet to /root/nltk_data...\n",
            "[nltk_data]   Package wordnet is already up-to-date!\n"
          ]
        },
        {
          "output_type": "execute_result",
          "data": {
            "text/plain": [
              "True"
            ]
          },
          "metadata": {},
          "execution_count": 18
        }
      ]
    },
    {
      "cell_type": "code",
      "source": [
        "nltk.download('omw-1.4')"
      ],
      "metadata": {
        "colab": {
          "base_uri": "https://localhost:8080/"
        },
        "id": "kjrZnfAsklI4",
        "outputId": "24e82bb2-0631-4fd5-fff4-62426a03730f"
      },
      "execution_count": 8,
      "outputs": [
        {
          "output_type": "stream",
          "name": "stderr",
          "text": [
            "[nltk_data] Downloading package omw-1.4 to /root/nltk_data...\n"
          ]
        },
        {
          "output_type": "execute_result",
          "data": {
            "text/plain": [
              "True"
            ]
          },
          "metadata": {},
          "execution_count": 8
        }
      ]
    },
    {
      "cell_type": "code",
      "source": [
        "sample_doc=\"\"\"\n",
        "Hii this is Ruchika from Zeal college of engineering.\n",
        "I have studied 30 subjects till date in engineering.\n",
        "\"\"\""
      ],
      "metadata": {
        "id": "zi8YIfxWkqvg"
      },
      "execution_count": 9,
      "outputs": []
    },
    {
      "cell_type": "code",
      "source": [
        "sample_doc"
      ],
      "metadata": {
        "colab": {
          "base_uri": "https://localhost:8080/",
          "height": 35
        },
        "id": "6NgAgLDGlJN_",
        "outputId": "bd4ee6ca-ba4a-4276-9345-d71a8c4f6b29"
      },
      "execution_count": 10,
      "outputs": [
        {
          "output_type": "execute_result",
          "data": {
            "text/plain": [
              "'\\nHii this is Ruchika from Zeal college of engineering.\\nI have studied 30 subjects till date in engineering.\\n'"
            ],
            "application/vnd.google.colaboratory.intrinsic+json": {
              "type": "string"
            }
          },
          "metadata": {},
          "execution_count": 10
        }
      ]
    },
    {
      "cell_type": "code",
      "source": [
        "from nltk.tokenize import word_tokenize"
      ],
      "metadata": {
        "id": "2GhGEIhHlMhe"
      },
      "execution_count": 11,
      "outputs": []
    },
    {
      "cell_type": "code",
      "source": [
        "tokens=word_tokenize(sample_doc)\n",
        "print(\"Tokens\",tokens)"
      ],
      "metadata": {
        "colab": {
          "base_uri": "https://localhost:8080/"
        },
        "id": "1aKm8bIilYEW",
        "outputId": "902421f2-4711-4523-cfe7-f4c13e413fa7"
      },
      "execution_count": 19,
      "outputs": [
        {
          "output_type": "stream",
          "name": "stdout",
          "text": [
            "Tokens ['Hii', 'this', 'is', 'Ruchika', 'from', 'Zeal', 'college', 'of', 'engineering', '.', 'I', 'have', 'studied', '30', 'subjects', 'till', 'date', 'in', 'engineering', '.']\n"
          ]
        }
      ]
    },
    {
      "cell_type": "code",
      "source": [
        "pos_tags=nltk.pos_tag(tokens)\n",
        "print(\"POS Tags\",pos_tags )"
      ],
      "metadata": {
        "colab": {
          "base_uri": "https://localhost:8080/"
        },
        "id": "xKd5fYwAlj91",
        "outputId": "74b7f721-88d4-43bd-ae92-009d560ec346"
      },
      "execution_count": 23,
      "outputs": [
        {
          "output_type": "stream",
          "name": "stdout",
          "text": [
            "POS Tags [('Hii', 'NNP'), ('this', 'DT'), ('is', 'VBZ'), ('Ruchika', 'NNP'), ('from', 'IN'), ('Zeal', 'NNP'), ('college', 'NN'), ('of', 'IN'), ('engineering', 'NN'), ('.', '.'), ('I', 'PRP'), ('have', 'VBP'), ('studied', 'VBN'), ('30', 'CD'), ('subjects', 'NNS'), ('till', 'JJ'), ('date', 'NN'), ('in', 'IN'), ('engineering', 'NN'), ('.', '.')]\n"
          ]
        }
      ]
    },
    {
      "cell_type": "code",
      "source": [
        "from nltk.corpus import stopwords\n",
        "stop_words=set(stopwords.words(\"english\"))\n",
        "filtered_tokens=[word for word in tokens if word.lower() not in stop_words and word.isalpha()]"
      ],
      "metadata": {
        "id": "BlQVkESGmnaB"
      },
      "execution_count": 24,
      "outputs": []
    },
    {
      "cell_type": "code",
      "source": [
        "print(\"Filtered tokens\",filtered_tokens)"
      ],
      "metadata": {
        "colab": {
          "base_uri": "https://localhost:8080/"
        },
        "id": "S0HS9rYCnenH",
        "outputId": "787521ad-189b-4fb3-bc77-a248ab57a30f"
      },
      "execution_count": 25,
      "outputs": [
        {
          "output_type": "stream",
          "name": "stdout",
          "text": [
            "Filtered tokens ['Hii', 'Ruchika', 'Zeal', 'college', 'engineering', 'studied', 'subjects', 'till', 'date', 'engineering']\n"
          ]
        }
      ]
    },
    {
      "cell_type": "code",
      "source": [
        "from nltk.stem import PorterStemmer\n",
        "stemmer=PorterStemmer()\n",
        "stemmed_tokens=[stemmer.stem(word) for word in filtered_tokens]\n",
        "print(\"Stemmed tokens\",stemmed_tokens)"
      ],
      "metadata": {
        "colab": {
          "base_uri": "https://localhost:8080/"
        },
        "id": "WMLj_Y4hnmlg",
        "outputId": "4c3196d8-ea3c-4692-aea1-3d8115e5c595"
      },
      "execution_count": 26,
      "outputs": [
        {
          "output_type": "stream",
          "name": "stdout",
          "text": [
            "Stemmed tokens ['hii', 'ruchika', 'zeal', 'colleg', 'engin', 'studi', 'subject', 'till', 'date', 'engin']\n"
          ]
        }
      ]
    },
    {
      "cell_type": "code",
      "source": [
        "from nltk.stem import WordNetLemmatizer\n",
        "lemmatizer=WordNetLemmatizer()\n",
        "lemmatized_tokens=[lemmatizer.lemmatize(word) for word in filtered_tokens]\n",
        "print(\"Lemmatized tokens\",lemmatized_tokens)"
      ],
      "metadata": {
        "colab": {
          "base_uri": "https://localhost:8080/"
        },
        "id": "6-6KRmXmn04U",
        "outputId": "d5345954-1ff9-4d8c-b582-9e1770bbfc85"
      },
      "execution_count": 27,
      "outputs": [
        {
          "output_type": "stream",
          "name": "stdout",
          "text": [
            "Lemmatized tokens ['Hii', 'Ruchika', 'Zeal', 'college', 'engineering', 'studied', 'subject', 'till', 'date', 'engineering']\n"
          ]
        }
      ]
    },
    {
      "cell_type": "code",
      "source": [
        "from sklearn.feature_extraction.text import CountVectorizer,TfidfVectorizer\n",
        "vectorizer=CountVectorizer()\n",
        "document=[sample_doc]\n",
        "document\n",
        "tf_matrix=vectorizer.fit_transform(document)\n",
        "print(\"Term Frequency Matrix\")\n",
        "print(tf_matrix.toarray())\n",
        "print(\"TF features name\",vectorizer.get_feature_names_out())"
      ],
      "metadata": {
        "colab": {
          "base_uri": "https://localhost:8080/"
        },
        "id": "p8bZWSYCn9oW",
        "outputId": "059a97f5-cb5b-46d1-b676-e51943400168"
      },
      "execution_count": 28,
      "outputs": [
        {
          "output_type": "stream",
          "name": "stdout",
          "text": [
            "Term Frequency Matrix\n",
            "[[1 1 1 2 1 1 1 1 1 1 1 1 1 1 1 1]]\n",
            "TF features name ['30' 'college' 'date' 'engineering' 'from' 'have' 'hii' 'in' 'is' 'of'\n",
            " 'ruchika' 'studied' 'subjects' 'this' 'till' 'zeal']\n"
          ]
        }
      ]
    },
    {
      "cell_type": "code",
      "source": [
        "Tfidf_Vectorizer=TfidfVectorizer()\n",
        "tfidf_matrix=Tfidf_Vectorizer.fit_transform(document)\n",
        "print(\"TF-IDF Matrix\")\n",
        "print(tfidf_matrix.toarray())"
      ],
      "metadata": {
        "colab": {
          "base_uri": "https://localhost:8080/"
        },
        "id": "ueZonba4ol28",
        "outputId": "48c65e74-be3e-4411-ad0c-8b099da7c386"
      },
      "execution_count": 29,
      "outputs": [
        {
          "output_type": "stream",
          "name": "stdout",
          "text": [
            "TF-IDF Matrix\n",
            "[[0.22941573 0.22941573 0.22941573 0.45883147 0.22941573 0.22941573\n",
            "  0.22941573 0.22941573 0.22941573 0.22941573 0.22941573 0.22941573\n",
            "  0.22941573 0.22941573 0.22941573 0.22941573]]\n"
          ]
        }
      ]
    },
    {
      "cell_type": "code",
      "source": [],
      "metadata": {
        "id": "dZgoRZ-tozca"
      },
      "execution_count": null,
      "outputs": []
    }
  ]
}